{
 "cells": [
  {
   "cell_type": "code",
   "execution_count": 1,
   "id": "c36d5efb",
   "metadata": {},
   "outputs": [],
   "source": [
    "import pandas as pd\n",
    "from sklearn.cluster import KMeans\n",
    "from kneed import KneeLocator\n",
    "from sklearn.metrics import silhouette_score\n",
    "import matplotlib.pyplot as plt\n",
    "from sklearn.feature_extraction.text import CountVectorizer, TfidfVectorizer\n",
    "from sklearn.decomposition import PCA\n",
    "import warnings\n",
    "warnings.filterwarnings('ignore')\n",
    "from sklearn.neighbors import NearestNeighbors\n",
    "from sklearn.preprocessing import StandardScaler\n",
    "# Pipeline"
   ]
  },
  {
   "cell_type": "code",
   "execution_count": 2,
   "id": "db3e4204",
   "metadata": {},
   "outputs": [],
   "source": [
    "data = pd.read_csv('application/dataset/gituserdata.csv', usecols=['username', 'content'])"
   ]
  },
  {
   "cell_type": "code",
   "execution_count": 3,
   "id": "d0d86b5f",
   "metadata": {},
   "outputs": [
    {
     "data": {
      "text/html": [
       "<div>\n",
       "<style scoped>\n",
       "    .dataframe tbody tr th:only-of-type {\n",
       "        vertical-align: middle;\n",
       "    }\n",
       "\n",
       "    .dataframe tbody tr th {\n",
       "        vertical-align: top;\n",
       "    }\n",
       "\n",
       "    .dataframe thead th {\n",
       "        text-align: right;\n",
       "    }\n",
       "</style>\n",
       "<table border=\"1\" class=\"dataframe\">\n",
       "  <thead>\n",
       "    <tr style=\"text-align: right;\">\n",
       "      <th></th>\n",
       "      <th>username</th>\n",
       "      <th>content</th>\n",
       "    </tr>\n",
       "  </thead>\n",
       "  <tbody>\n",
       "    <tr>\n",
       "      <th>0</th>\n",
       "      <td>esin</td>\n",
       "      <td>calathea  shell dris docker remote image size ...</td>\n",
       "    </tr>\n",
       "    <tr>\n",
       "      <th>1</th>\n",
       "      <td>jeffersonsimaogoncalves</td>\n",
       "      <td>animacao icone app  javascript</td>\n",
       "    </tr>\n",
       "    <tr>\n",
       "      <th>2</th>\n",
       "      <td>pedrualves</td>\n",
       "      <td>abc abc android  angular translated rustic sim...</td>\n",
       "    </tr>\n",
       "    <tr>\n",
       "      <th>3</th>\n",
       "      <td>kroitor</td>\n",
       "      <td>asciichart nice looking lightweight console as...</td>\n",
       "    </tr>\n",
       "    <tr>\n",
       "      <th>4</th>\n",
       "      <td>vivekweb2013</td>\n",
       "      <td>audio recorder free simple audio recorder app ...</td>\n",
       "    </tr>\n",
       "  </tbody>\n",
       "</table>\n",
       "</div>"
      ],
      "text/plain": [
       "                  username                                            content\n",
       "0                     esin  calathea  shell dris docker remote image size ...\n",
       "1  jeffersonsimaogoncalves                     animacao icone app  javascript\n",
       "2               pedrualves  abc abc android  angular translated rustic sim...\n",
       "3                  kroitor  asciichart nice looking lightweight console as...\n",
       "4             vivekweb2013  audio recorder free simple audio recorder app ..."
      ]
     },
     "execution_count": 3,
     "metadata": {},
     "output_type": "execute_result"
    }
   ],
   "source": [
    "data.head()"
   ]
  },
  {
   "cell_type": "code",
   "execution_count": 4,
   "id": "7407ae64",
   "metadata": {},
   "outputs": [
    {
     "data": {
      "text/plain": [
       "username     0\n",
       "content     37\n",
       "dtype: int64"
      ]
     },
     "execution_count": 4,
     "metadata": {},
     "output_type": "execute_result"
    }
   ],
   "source": [
    "data.isna().sum()"
   ]
  },
  {
   "cell_type": "code",
   "execution_count": 5,
   "id": "b1192db9",
   "metadata": {},
   "outputs": [],
   "source": [
    "data.dropna(inplace=True)"
   ]
  },
  {
   "cell_type": "code",
   "execution_count": 6,
   "id": "236713fd",
   "metadata": {},
   "outputs": [],
   "source": [
    "data.reset_index(drop=True, inplace=True)"
   ]
  },
  {
   "cell_type": "code",
   "execution_count": 7,
   "id": "039fd103",
   "metadata": {},
   "outputs": [],
   "source": [
    "from nltk.corpus import stopwords\n",
    "stop_words = stopwords.words('english')\n",
    "data.content = data.content.apply(lambda x: \" \".join([word for word in x.split() if word not in stop_words]))"
   ]
  },
  {
   "cell_type": "code",
   "execution_count": 8,
   "id": "d94b65f3",
   "metadata": {},
   "outputs": [
    {
     "data": {
      "text/html": [
       "<div>\n",
       "<style scoped>\n",
       "    .dataframe tbody tr th:only-of-type {\n",
       "        vertical-align: middle;\n",
       "    }\n",
       "\n",
       "    .dataframe tbody tr th {\n",
       "        vertical-align: top;\n",
       "    }\n",
       "\n",
       "    .dataframe thead th {\n",
       "        text-align: right;\n",
       "    }\n",
       "</style>\n",
       "<table border=\"1\" class=\"dataframe\">\n",
       "  <thead>\n",
       "    <tr style=\"text-align: right;\">\n",
       "      <th></th>\n",
       "      <th>username</th>\n",
       "      <th>content</th>\n",
       "    </tr>\n",
       "  </thead>\n",
       "  <tbody>\n",
       "    <tr>\n",
       "      <th>0</th>\n",
       "      <td>esin</td>\n",
       "      <td>calathea shell dris docker remote image size d...</td>\n",
       "    </tr>\n",
       "    <tr>\n",
       "      <th>1</th>\n",
       "      <td>jeffersonsimaogoncalves</td>\n",
       "      <td>animacao icone app javascript</td>\n",
       "    </tr>\n",
       "    <tr>\n",
       "      <th>2</th>\n",
       "      <td>pedrualves</td>\n",
       "      <td>abc abc android angular translated rustic simp...</td>\n",
       "    </tr>\n",
       "    <tr>\n",
       "      <th>3</th>\n",
       "      <td>kroitor</td>\n",
       "      <td>asciichart nice looking lightweight console as...</td>\n",
       "    </tr>\n",
       "    <tr>\n",
       "      <th>4</th>\n",
       "      <td>vivekweb2013</td>\n",
       "      <td>audio recorder free simple audio recorder app ...</td>\n",
       "    </tr>\n",
       "  </tbody>\n",
       "</table>\n",
       "</div>"
      ],
      "text/plain": [
       "                  username                                            content\n",
       "0                     esin  calathea shell dris docker remote image size d...\n",
       "1  jeffersonsimaogoncalves                      animacao icone app javascript\n",
       "2               pedrualves  abc abc android angular translated rustic simp...\n",
       "3                  kroitor  asciichart nice looking lightweight console as...\n",
       "4             vivekweb2013  audio recorder free simple audio recorder app ..."
      ]
     },
     "execution_count": 8,
     "metadata": {},
     "output_type": "execute_result"
    }
   ],
   "source": [
    "data.head()"
   ]
  },
  {
   "cell_type": "code",
   "execution_count": 9,
   "id": "e2f7bb1e",
   "metadata": {},
   "outputs": [],
   "source": [
    "from collections import Counter\n",
    "\n",
    "count = Counter(data.content.iloc[0].split())"
   ]
  },
  {
   "cell_type": "code",
   "execution_count": 10,
   "id": "b165b4f2",
   "metadata": {},
   "outputs": [
    {
     "data": {
      "text/plain": [
       "['shell',\n",
       " 'go',\n",
       " 'dockerfile',\n",
       " 'html',\n",
       " 'docker',\n",
       " 'image',\n",
       " 'dump1090',\n",
       " 'exporter',\n",
       " 'esin',\n",
       " 'scripts']"
      ]
     },
     "execution_count": 10,
     "metadata": {},
     "output_type": "execute_result"
    }
   ],
   "source": [
    "[x[0] for x in count.most_common(10)]"
   ]
  },
  {
   "cell_type": "code",
   "execution_count": 11,
   "id": "b6d4d781",
   "metadata": {},
   "outputs": [],
   "source": [
    "data['most_common_skills'] = data.content.apply(lambda x: [t[0] for t in Counter(x.split()).most_common(10)])"
   ]
  },
  {
   "cell_type": "code",
   "execution_count": 12,
   "id": "3eb3a2b6",
   "metadata": {},
   "outputs": [
    {
     "data": {
      "text/html": [
       "<div>\n",
       "<style scoped>\n",
       "    .dataframe tbody tr th:only-of-type {\n",
       "        vertical-align: middle;\n",
       "    }\n",
       "\n",
       "    .dataframe tbody tr th {\n",
       "        vertical-align: top;\n",
       "    }\n",
       "\n",
       "    .dataframe thead th {\n",
       "        text-align: right;\n",
       "    }\n",
       "</style>\n",
       "<table border=\"1\" class=\"dataframe\">\n",
       "  <thead>\n",
       "    <tr style=\"text-align: right;\">\n",
       "      <th></th>\n",
       "      <th>username</th>\n",
       "      <th>content</th>\n",
       "      <th>most_common_skills</th>\n",
       "    </tr>\n",
       "  </thead>\n",
       "  <tbody>\n",
       "    <tr>\n",
       "      <th>0</th>\n",
       "      <td>esin</td>\n",
       "      <td>calathea shell dris docker remote image size d...</td>\n",
       "      <td>[shell, go, dockerfile, html, docker, image, d...</td>\n",
       "    </tr>\n",
       "    <tr>\n",
       "      <th>1</th>\n",
       "      <td>jeffersonsimaogoncalves</td>\n",
       "      <td>animacao icone app javascript</td>\n",
       "      <td>[animacao, icone, app, javascript]</td>\n",
       "    </tr>\n",
       "    <tr>\n",
       "      <th>2</th>\n",
       "      <td>pedrualves</td>\n",
       "      <td>abc abc android angular translated rustic simp...</td>\n",
       "      <td>[javascript, html, css, project, angularjs, ab...</td>\n",
       "    </tr>\n",
       "    <tr>\n",
       "      <th>3</th>\n",
       "      <td>kroitor</td>\n",
       "      <td>asciichart nice looking lightweight console as...</td>\n",
       "      <td>[c, python, javascript, html, docs, gjk, ascii...</td>\n",
       "    </tr>\n",
       "    <tr>\n",
       "      <th>4</th>\n",
       "      <td>vivekweb2013</td>\n",
       "      <td>audio recorder free simple audio recorder app ...</td>\n",
       "      <td>[android, java, javascript, go, audio, recorde...</td>\n",
       "    </tr>\n",
       "  </tbody>\n",
       "</table>\n",
       "</div>"
      ],
      "text/plain": [
       "                  username                                            content  \\\n",
       "0                     esin  calathea shell dris docker remote image size d...   \n",
       "1  jeffersonsimaogoncalves                      animacao icone app javascript   \n",
       "2               pedrualves  abc abc android angular translated rustic simp...   \n",
       "3                  kroitor  asciichart nice looking lightweight console as...   \n",
       "4             vivekweb2013  audio recorder free simple audio recorder app ...   \n",
       "\n",
       "                                  most_common_skills  \n",
       "0  [shell, go, dockerfile, html, docker, image, d...  \n",
       "1                 [animacao, icone, app, javascript]  \n",
       "2  [javascript, html, css, project, angularjs, ab...  \n",
       "3  [c, python, javascript, html, docs, gjk, ascii...  \n",
       "4  [android, java, javascript, go, audio, recorde...  "
      ]
     },
     "execution_count": 12,
     "metadata": {},
     "output_type": "execute_result"
    }
   ],
   "source": [
    "data.head()"
   ]
  },
  {
   "cell_type": "code",
   "execution_count": 13,
   "id": "3d49dc5e",
   "metadata": {},
   "outputs": [],
   "source": [
    "corpus = data.content.tolist()\n",
    "\n",
    "vectorizer = TfidfVectorizer(max_features=5000)\n",
    "scaler = StandardScaler(with_mean=False)\n",
    "\n",
    "_ = vectorizer.fit(corpus)\n",
    "\n",
    "vectors = vectorizer.transform(corpus)#.toarray()\n",
    "\n",
    "scaled_features = scaler.fit_transform(vectors)\n"
   ]
  },
  {
   "cell_type": "code",
   "execution_count": 14,
   "id": "99674618",
   "metadata": {},
   "outputs": [
    {
     "data": {
      "image/png": "[encoded data removed]",
      "text/plain": [
       "<Figure size 640x480 with 1 Axes>"
      ]
     },
     "metadata": {},
     "output_type": "display_data"
    }
   ],
   "source": [
    "# Kmeans\n",
    "kmeans_kwargs = {\"init\": \"random\", \"n_init\": 10, \"max_iter\": 300, \"random_state\": 42}\n",
    "\n",
    "# A list holds the SSE values for each k\n",
    "sse = []\n",
    "for k in range(1, 21):\n",
    "    kmeans = KMeans(n_clusters=k, **kmeans_kwargs)\n",
    "    kmeans.fit(scaled_features)\n",
    "    sse.append(kmeans.inertia_)\n",
    "\n",
    "plt.style.use(\"fivethirtyeight\")\n",
    "plt.plot(range(1, 21), sse)\n",
    "plt.xticks(range(1, 21))\n",
    "plt.xlabel(\"Number of Clusters\")\n",
    "plt.ylabel(\"SSE\")\n",
    "plt.show()"
   ]
  },
  {
   "cell_type": "code",
   "execution_count": 15,
   "id": "38a513bf",
   "metadata": {},
   "outputs": [],
   "source": [
    "kl = KneeLocator(range(1, 21), sse, curve=\"convex\", direction=\"decreasing\")\n",
    "\n",
    "n_clusters = kl.elbow"
   ]
  },
  {
   "cell_type": "code",
   "execution_count": 16,
   "id": "d0b2c317",
   "metadata": {},
   "outputs": [
    {
     "data": {
      "text/plain": [
       "8"
      ]
     },
     "execution_count": 16,
     "metadata": {},
     "output_type": "execute_result"
    }
   ],
   "source": [
    "n_clusters"
   ]
  },
  {
   "cell_type": "code",
   "execution_count": 17,
   "id": "536678b2",
   "metadata": {},
   "outputs": [],
   "source": [
    "dim_reducer = PCA(n_components=50)\n",
    "scaled_reduced_features = scaled_features.toarray()#dim_reducer.fit_transform(scaled_features.toarray())"
   ]
  },
  {
   "cell_type": "code",
   "execution_count": null,
   "id": "96d226b7",
   "metadata": {},
   "outputs": [],
   "source": []
  },
  {
   "cell_type": "code",
   "execution_count": 18,
   "id": "0abcccf2",
   "metadata": {},
   "outputs": [],
   "source": [
    "# Final model\n",
    "kmeans_kwargs = {\"init\": \"random\", \"n_init\": 1, \"max_iter\": 300, \"random_state\": 42}\n",
    "kmeans = KMeans(n_clusters=8, **kmeans_kwargs)"
   ]
  },
  {
   "cell_type": "code",
   "execution_count": 19,
   "id": "2f134850",
   "metadata": {},
   "outputs": [],
   "source": [
    "_ = kmeans.fit(scaled_reduced_features)"
   ]
  },
  {
   "cell_type": "code",
   "execution_count": 20,
   "id": "e91a7b8b",
   "metadata": {},
   "outputs": [],
   "source": [
    "data['cluster']=kmeans.predict(scaled_reduced_features)"
   ]
  },
  {
   "cell_type": "code",
   "execution_count": 21,
   "id": "cd074ec6",
   "metadata": {},
   "outputs": [
    {
     "data": {
      "text/html": [
       "<div>\n",
       "<style scoped>\n",
       "    .dataframe tbody tr th:only-of-type {\n",
       "        vertical-align: middle;\n",
       "    }\n",
       "\n",
       "    .dataframe tbody tr th {\n",
       "        vertical-align: top;\n",
       "    }\n",
       "\n",
       "    .dataframe thead th {\n",
       "        text-align: right;\n",
       "    }\n",
       "</style>\n",
       "<table border=\"1\" class=\"dataframe\">\n",
       "  <thead>\n",
       "    <tr style=\"text-align: right;\">\n",
       "      <th></th>\n",
       "      <th>username</th>\n",
       "      <th>content</th>\n",
       "      <th>most_common_skills</th>\n",
       "      <th>cluster</th>\n",
       "    </tr>\n",
       "  </thead>\n",
       "  <tbody>\n",
       "    <tr>\n",
       "      <th>0</th>\n",
       "      <td>esin</td>\n",
       "      <td>calathea shell dris docker remote image size d...</td>\n",
       "      <td>[shell, go, dockerfile, html, docker, image, d...</td>\n",
       "      <td>4</td>\n",
       "    </tr>\n",
       "    <tr>\n",
       "      <th>1</th>\n",
       "      <td>jeffersonsimaogoncalves</td>\n",
       "      <td>animacao icone app javascript</td>\n",
       "      <td>[animacao, icone, app, javascript]</td>\n",
       "      <td>4</td>\n",
       "    </tr>\n",
       "    <tr>\n",
       "      <th>2</th>\n",
       "      <td>pedrualves</td>\n",
       "      <td>abc abc android angular translated rustic simp...</td>\n",
       "      <td>[javascript, html, css, project, angularjs, ab...</td>\n",
       "      <td>4</td>\n",
       "    </tr>\n",
       "    <tr>\n",
       "      <th>3</th>\n",
       "      <td>kroitor</td>\n",
       "      <td>asciichart nice looking lightweight console as...</td>\n",
       "      <td>[c, python, javascript, html, docs, gjk, ascii...</td>\n",
       "      <td>4</td>\n",
       "    </tr>\n",
       "    <tr>\n",
       "      <th>4</th>\n",
       "      <td>vivekweb2013</td>\n",
       "      <td>audio recorder free simple audio recorder app ...</td>\n",
       "      <td>[android, java, javascript, go, audio, recorde...</td>\n",
       "      <td>4</td>\n",
       "    </tr>\n",
       "  </tbody>\n",
       "</table>\n",
       "</div>"
      ],
      "text/plain": [
       "                  username                                            content  \\\n",
       "0                     esin  calathea shell dris docker remote image size d...   \n",
       "1  jeffersonsimaogoncalves                      animacao icone app javascript   \n",
       "2               pedrualves  abc abc android angular translated rustic simp...   \n",
       "3                  kroitor  asciichart nice looking lightweight console as...   \n",
       "4             vivekweb2013  audio recorder free simple audio recorder app ...   \n",
       "\n",
       "                                  most_common_skills  cluster  \n",
       "0  [shell, go, dockerfile, html, docker, image, d...        4  \n",
       "1                 [animacao, icone, app, javascript]        4  \n",
       "2  [javascript, html, css, project, angularjs, ab...        4  \n",
       "3  [c, python, javascript, html, docs, gjk, ascii...        4  \n",
       "4  [android, java, javascript, go, audio, recorde...        4  "
      ]
     },
     "execution_count": 21,
     "metadata": {},
     "output_type": "execute_result"
    }
   ],
   "source": [
    "data.head()"
   ]
  },
  {
   "cell_type": "code",
   "execution_count": null,
   "id": "465d07e0",
   "metadata": {},
   "outputs": [],
   "source": []
  },
  {
   "cell_type": "code",
   "execution_count": 22,
   "id": "d7a7e3aa",
   "metadata": {},
   "outputs": [
    {
     "data": {
      "text/plain": [
       "4"
      ]
     },
     "execution_count": 22,
     "metadata": {},
     "output_type": "execute_result"
    }
   ],
   "source": [
    "cleaned_user = data.content.iloc[134]\n",
    "#cleaned_user = preprocessor(user)\n",
    "vec_user = vectorizer.transform([cleaned_user])\n",
    "scaled_user = scaler.transform(vec_user)\n",
    "dim_user = scaled_user.toarray() #dim_reducer.transform(vec_user.toarray())\n",
    "cluster = kmeans.predict(dim_user)[0]\n",
    "cluster"
   ]
  },
  {
   "cell_type": "code",
   "execution_count": 23,
   "id": "d9146810",
   "metadata": {},
   "outputs": [],
   "source": [
    "cluster_df = data.loc[data.cluster == cluster]\n",
    "indices = cluster_df.index.tolist()\n",
    "cluster_reduced_features = scaled_reduced_features[indices]"
   ]
  },
  {
   "cell_type": "code",
   "execution_count": 24,
   "id": "b050eeb1",
   "metadata": {},
   "outputs": [],
   "source": [
    "cluster_df.reset_index(drop=True, inplace=True)"
   ]
  },
  {
   "cell_type": "code",
   "execution_count": 25,
   "id": "2d6bbff7",
   "metadata": {},
   "outputs": [
    {
     "data": {
      "text/html": [
       "<div>\n",
       "<style scoped>\n",
       "    .dataframe tbody tr th:only-of-type {\n",
       "        vertical-align: middle;\n",
       "    }\n",
       "\n",
       "    .dataframe tbody tr th {\n",
       "        vertical-align: top;\n",
       "    }\n",
       "\n",
       "    .dataframe thead th {\n",
       "        text-align: right;\n",
       "    }\n",
       "</style>\n",
       "<table border=\"1\" class=\"dataframe\">\n",
       "  <thead>\n",
       "    <tr style=\"text-align: right;\">\n",
       "      <th></th>\n",
       "      <th>username</th>\n",
       "      <th>content</th>\n",
       "      <th>most_common_skills</th>\n",
       "      <th>cluster</th>\n",
       "    </tr>\n",
       "  </thead>\n",
       "  <tbody>\n",
       "    <tr>\n",
       "      <th>0</th>\n",
       "      <td>esin</td>\n",
       "      <td>calathea shell dris docker remote image size d...</td>\n",
       "      <td>[shell, go, dockerfile, html, docker, image, d...</td>\n",
       "      <td>4</td>\n",
       "    </tr>\n",
       "    <tr>\n",
       "      <th>1</th>\n",
       "      <td>jeffersonsimaogoncalves</td>\n",
       "      <td>animacao icone app javascript</td>\n",
       "      <td>[animacao, icone, app, javascript]</td>\n",
       "      <td>4</td>\n",
       "    </tr>\n",
       "    <tr>\n",
       "      <th>2</th>\n",
       "      <td>pedrualves</td>\n",
       "      <td>abc abc android angular translated rustic simp...</td>\n",
       "      <td>[javascript, html, css, project, angularjs, ab...</td>\n",
       "      <td>4</td>\n",
       "    </tr>\n",
       "    <tr>\n",
       "      <th>3</th>\n",
       "      <td>kroitor</td>\n",
       "      <td>asciichart nice looking lightweight console as...</td>\n",
       "      <td>[c, python, javascript, html, docs, gjk, ascii...</td>\n",
       "      <td>4</td>\n",
       "    </tr>\n",
       "    <tr>\n",
       "      <th>4</th>\n",
       "      <td>vivekweb2013</td>\n",
       "      <td>audio recorder free simple audio recorder app ...</td>\n",
       "      <td>[android, java, javascript, go, audio, recorde...</td>\n",
       "      <td>4</td>\n",
       "    </tr>\n",
       "  </tbody>\n",
       "</table>\n",
       "</div>"
      ],
      "text/plain": [
       "                  username                                            content  \\\n",
       "0                     esin  calathea shell dris docker remote image size d...   \n",
       "1  jeffersonsimaogoncalves                      animacao icone app javascript   \n",
       "2               pedrualves  abc abc android angular translated rustic simp...   \n",
       "3                  kroitor  asciichart nice looking lightweight console as...   \n",
       "4             vivekweb2013  audio recorder free simple audio recorder app ...   \n",
       "\n",
       "                                  most_common_skills  cluster  \n",
       "0  [shell, go, dockerfile, html, docker, image, d...        4  \n",
       "1                 [animacao, icone, app, javascript]        4  \n",
       "2  [javascript, html, css, project, angularjs, ab...        4  \n",
       "3  [c, python, javascript, html, docs, gjk, ascii...        4  \n",
       "4  [android, java, javascript, go, audio, recorde...        4  "
      ]
     },
     "execution_count": 25,
     "metadata": {},
     "output_type": "execute_result"
    }
   ],
   "source": [
    "cluster_df.head()"
   ]
  },
  {
   "cell_type": "code",
   "execution_count": 26,
   "id": "a7a56f70",
   "metadata": {},
   "outputs": [
    {
     "data": {
      "text/plain": [
       "(554, 4)"
      ]
     },
     "execution_count": 26,
     "metadata": {},
     "output_type": "execute_result"
    }
   ],
   "source": [
    "cluster_df.shape"
   ]
  },
  {
   "cell_type": "code",
   "execution_count": 27,
   "id": "ed9a07bb",
   "metadata": {},
   "outputs": [],
   "source": [
    "knn = NearestNeighbors(n_neighbors=10, algorithm='brute', metric='euclidean')\n",
    "_ = knn.fit(cluster_reduced_features)\n",
    "dists, idx = knn.kneighbors(dim_user)"
   ]
  },
  {
   "cell_type": "code",
   "execution_count": 28,
   "id": "e4da9f27",
   "metadata": {},
   "outputs": [
    {
     "data": {
      "text/html": [
       "<div>\n",
       "<style scoped>\n",
       "    .dataframe tbody tr th:only-of-type {\n",
       "        vertical-align: middle;\n",
       "    }\n",
       "\n",
       "    .dataframe tbody tr th {\n",
       "        vertical-align: top;\n",
       "    }\n",
       "\n",
       "    .dataframe thead th {\n",
       "        text-align: right;\n",
       "    }\n",
       "</style>\n",
       "<table border=\"1\" class=\"dataframe\">\n",
       "  <thead>\n",
       "    <tr style=\"text-align: right;\">\n",
       "      <th></th>\n",
       "      <th>username</th>\n",
       "      <th>content</th>\n",
       "      <th>most_common_skills</th>\n",
       "      <th>cluster</th>\n",
       "    </tr>\n",
       "  </thead>\n",
       "  <tbody>\n",
       "    <tr>\n",
       "      <th>133</th>\n",
       "      <td>philcryer</td>\n",
       "      <td>art philcryer com source code art site running...</td>\n",
       "      <td>[shell, html, css, javascript, script, url, gi...</td>\n",
       "      <td>4</td>\n",
       "    </tr>\n",
       "    <tr>\n",
       "      <th>115</th>\n",
       "      <td>GAGATRACK</td>\n",
       "      <td>fsts audiovisual notch</td>\n",
       "      <td>[fsts, audiovisual, notch]</td>\n",
       "      <td>4</td>\n",
       "    </tr>\n",
       "    <tr>\n",
       "      <th>423</th>\n",
       "      <td>hgcsoft</td>\n",
       "      <td>embarcadero</td>\n",
       "      <td>[embarcadero]</td>\n",
       "      <td>4</td>\n",
       "    </tr>\n",
       "    <tr>\n",
       "      <th>420</th>\n",
       "      <td>melihcanmavis</td>\n",
       "      <td>signinwithapple swift</td>\n",
       "      <td>[signinwithapple, swift]</td>\n",
       "      <td>4</td>\n",
       "    </tr>\n",
       "    <tr>\n",
       "      <th>307</th>\n",
       "      <td>TaniraWrites</td>\n",
       "      <td>brooklyncommunityboard swift</td>\n",
       "      <td>[brooklyncommunityboard, swift]</td>\n",
       "      <td>4</td>\n",
       "    </tr>\n",
       "    <tr>\n",
       "      <th>326</th>\n",
       "      <td>arb1nsnmgl</td>\n",
       "      <td>hugecodechallengeflatiron swift inbetwin inbet...</td>\n",
       "      <td>[swift, hugecodechallengeflatiron, inbetwin, i...</td>\n",
       "      <td>4</td>\n",
       "    </tr>\n",
       "    <tr>\n",
       "      <th>414</th>\n",
       "      <td>ggnull35</td>\n",
       "      <td>i40e dkms shell</td>\n",
       "      <td>[i40e, dkms, shell]</td>\n",
       "      <td>4</td>\n",
       "    </tr>\n",
       "    <tr>\n",
       "      <th>514</th>\n",
       "      <td>dylaw</td>\n",
       "      <td>battah github io css html javascript php</td>\n",
       "      <td>[battah, github, io, css, html, javascript, php]</td>\n",
       "      <td>4</td>\n",
       "    </tr>\n",
       "    <tr>\n",
       "      <th>405</th>\n",
       "      <td>fethan</td>\n",
       "      <td>fethan github io html</td>\n",
       "      <td>[fethan, github, io, html]</td>\n",
       "      <td>4</td>\n",
       "    </tr>\n",
       "    <tr>\n",
       "      <th>1</th>\n",
       "      <td>jeffersonsimaogoncalves</td>\n",
       "      <td>animacao icone app javascript</td>\n",
       "      <td>[animacao, icone, app, javascript]</td>\n",
       "      <td>4</td>\n",
       "    </tr>\n",
       "  </tbody>\n",
       "</table>\n",
       "</div>"
      ],
      "text/plain": [
       "                    username  \\\n",
       "133                philcryer   \n",
       "115                GAGATRACK   \n",
       "423                  hgcsoft   \n",
       "420            melihcanmavis   \n",
       "307             TaniraWrites   \n",
       "326               arb1nsnmgl   \n",
       "414                 ggnull35   \n",
       "514                    dylaw   \n",
       "405                   fethan   \n",
       "1    jeffersonsimaogoncalves   \n",
       "\n",
       "                                               content  \\\n",
       "133  art philcryer com source code art site running...   \n",
       "115                             fsts audiovisual notch   \n",
       "423                                        embarcadero   \n",
       "420                              signinwithapple swift   \n",
       "307                       brooklyncommunityboard swift   \n",
       "326  hugecodechallengeflatiron swift inbetwin inbet...   \n",
       "414                                    i40e dkms shell   \n",
       "514           battah github io css html javascript php   \n",
       "405                              fethan github io html   \n",
       "1                        animacao icone app javascript   \n",
       "\n",
       "                                    most_common_skills  cluster  \n",
       "133  [shell, html, css, javascript, script, url, gi...        4  \n",
       "115                         [fsts, audiovisual, notch]        4  \n",
       "423                                      [embarcadero]        4  \n",
       "420                           [signinwithapple, swift]        4  \n",
       "307                    [brooklyncommunityboard, swift]        4  \n",
       "326  [swift, hugecodechallengeflatiron, inbetwin, i...        4  \n",
       "414                                [i40e, dkms, shell]        4  \n",
       "514   [battah, github, io, css, html, javascript, php]        4  \n",
       "405                         [fethan, github, io, html]        4  \n",
       "1                   [animacao, icone, app, javascript]        4  "
      ]
     },
     "execution_count": 28,
     "metadata": {},
     "output_type": "execute_result"
    }
   ],
   "source": [
    "cluster_df.iloc[idx[0]]"
   ]
  },
  {
   "cell_type": "code",
   "execution_count": 29,
   "id": "34bb9071",
   "metadata": {},
   "outputs": [
    {
     "data": {
      "text/html": [
       "<div>\n",
       "<style scoped>\n",
       "    .dataframe tbody tr th:only-of-type {\n",
       "        vertical-align: middle;\n",
       "    }\n",
       "\n",
       "    .dataframe tbody tr th {\n",
       "        vertical-align: top;\n",
       "    }\n",
       "\n",
       "    .dataframe thead th {\n",
       "        text-align: right;\n",
       "    }\n",
       "</style>\n",
       "<table border=\"1\" class=\"dataframe\">\n",
       "  <thead>\n",
       "    <tr style=\"text-align: right;\">\n",
       "      <th></th>\n",
       "      <th>username</th>\n",
       "      <th>content</th>\n",
       "      <th>most_common_skills</th>\n",
       "      <th>cluster</th>\n",
       "    </tr>\n",
       "  </thead>\n",
       "  <tbody>\n",
       "    <tr>\n",
       "      <th>134</th>\n",
       "      <td>philcryer</td>\n",
       "      <td>art philcryer com source code art site running...</td>\n",
       "      <td>[shell, html, css, javascript, script, url, gi...</td>\n",
       "      <td>4</td>\n",
       "    </tr>\n",
       "  </tbody>\n",
       "</table>\n",
       "</div>"
      ],
      "text/plain": [
       "      username                                            content  \\\n",
       "134  philcryer  art philcryer com source code art site running...   \n",
       "\n",
       "                                    most_common_skills  cluster  \n",
       "134  [shell, html, css, javascript, script, url, gi...        4  "
      ]
     },
     "execution_count": 29,
     "metadata": {},
     "output_type": "execute_result"
    }
   ],
   "source": [
    "data.iloc[[134]]"
   ]
  },
  {
   "cell_type": "code",
   "execution_count": 30,
   "id": "dc057794",
   "metadata": {},
   "outputs": [],
   "source": [
    "from scipy.spatial.distance import euclidean"
   ]
  },
  {
   "cell_type": "code",
   "execution_count": 31,
   "id": "9c684a00",
   "metadata": {},
   "outputs": [
    {
     "data": {
      "text/plain": [
       "array([[0., 0., 0., ..., 0., 0., 0.]])"
      ]
     },
     "execution_count": 31,
     "metadata": {},
     "output_type": "execute_result"
    }
   ],
   "source": [
    "dim_user"
   ]
  },
  {
   "cell_type": "code",
   "execution_count": 32,
   "id": "c62df65c",
   "metadata": {},
   "outputs": [
    {
     "data": {
      "text/plain": [
       "0.0"
      ]
     },
     "execution_count": 32,
     "metadata": {},
     "output_type": "execute_result"
    }
   ],
   "source": [
    "euclidean(dim_user[0], scaled_reduced_features[134])"
   ]
  },
  {
   "cell_type": "code",
   "execution_count": 33,
   "id": "7129b291",
   "metadata": {},
   "outputs": [
    {
     "data": {
      "text/plain": [
       "1164.7042595278594"
      ]
     },
     "execution_count": 33,
     "metadata": {},
     "output_type": "execute_result"
    }
   ],
   "source": [
    "sum(scaled_reduced_features[134])"
   ]
  },
  {
   "cell_type": "code",
   "execution_count": 34,
   "id": "3452f7e9",
   "metadata": {},
   "outputs": [
    {
     "data": {
      "text/plain": [
       "1164.7042595278594"
      ]
     },
     "execution_count": 34,
     "metadata": {},
     "output_type": "execute_result"
    }
   ],
   "source": [
    "sum(dim_user[0])"
   ]
  },
  {
   "cell_type": "code",
   "execution_count": null,
   "id": "18a5b24c",
   "metadata": {},
   "outputs": [],
   "source": []
  }
 ],
 "metadata": {
  "kernelspec": {
   "display_name": "Python 3 (ipykernel)",
   "language": "python",
   "name": "python3"
  },
  "language_info": {
   "codemirror_mode": {
    "name": "ipython",
    "version": 3
   },
   "file_extension": ".py",
   "mimetype": "text/x-python",
   "name": "python",
   "nbconvert_exporter": "python",
   "pygments_lexer": "ipython3",
   "version": "3.8.10"
  }
 },
 "nbformat": 4,
 "nbformat_minor": 5
}
