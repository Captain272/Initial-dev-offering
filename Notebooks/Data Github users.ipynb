{
 "cells": [
  {
   "cell_type": "code",
   "execution_count": 1,
   "id": "b46e82e9",
   "metadata": {},
   "outputs": [],
   "source": [
    "import requests\n",
    "import json\n",
    "import pandas as pd\n",
    "from collections import defaultdict\n",
    "import time\n"
   ]
  },
  {
   "cell_type": "markdown",
   "id": "e55ae959",
   "metadata": {},
   "source": [
    "## User  followers"
   ]
  },
  {
   "cell_type": "code",
   "execution_count": 2,
   "id": "47192eb2",
   "metadata": {},
   "outputs": [],
   "source": [
    "temp = defaultdict(list)"
   ]
  },
  {
   "cell_type": "code",
   "execution_count": 5,
   "id": "a27d7474",
   "metadata": {},
   "outputs": [
    {
     "name": "stdout",
     "output_type": "stream",
     "text": [
      "1 2 3 4 5 6 7 8 9 10 11 12 13 14 15 16 17 18 19 20 21 22 23 24 25 26 27 28 29 30 Done followers\n",
      "Main user done\n",
      "1 2 3 4 5 6 7 8 9 10 11 12 13 14 Following users Done!!\n",
      "Success!\n"
     ]
    }
   ],
   "source": [
    "user_name = \"\" # other users: kiranmuddam, ashok49473\n",
    "\n",
    "# Followers data\n",
    "url = f'https://api.github.com/users/{user_name}/followers'\n",
    "resp = requests.get(url, auth=('ashok49473', ''))\n",
    "files = resp.json()\n",
    "\n",
    "for i, user in enumerate(files):\n",
    "    username = user['login']\n",
    "    if user['type'] == \"User\":\n",
    "        url = \"https://api.github.com/users/{}/repos\".format(username)\n",
    "        resp = requests.get(url, auth=('ashok49473', ''))\n",
    "        json_file = resp.json()\n",
    "        content = \"\"\n",
    "        for item in json_file:\n",
    "            if not item['fork']:\n",
    "                content+= \" \" + str(item['name']) + \" \"\n",
    "                content+= str(item['description']) + \" \"\n",
    "                langs = requests.get(item['languages_url'], auth=('ashok49473', ''))\n",
    "                content+= \" \".join(langs.json().keys())\n",
    "        temp[\"username\"].append(username)\n",
    "        temp[\"content\"].append(content)\n",
    "        print(i+1, end=\" \")\n",
    "        \n",
    "print(\"Done followers\")\n",
    "\n",
    "# Main user data\n",
    "url = \"https://api.github.com/users/{}/repos\".format(user_name)\n",
    "resp = requests.get(url, auth=('ashok49473', ''))\n",
    "json_file = resp.json()\n",
    "content = \"\"\n",
    "for item in json_file:\n",
    "    if not item['fork']:    \n",
    "        content+= \" \" + str(item['name']) + \" \"\n",
    "        content+= str(item['description']) + \" \"\n",
    "        langs = requests.get(item['languages_url'], auth=('ashok49473', ''))\n",
    "        content+= \" \".join(langs.json().keys())\n",
    "temp[\"username\"].append(user_name)\n",
    "temp[\"content\"].append(content)\n",
    "\n",
    "print(\"Main user done\")\n",
    "\n",
    "# Following users data\n",
    "\n",
    "url = f'https://api.github.com/users/{user_name}/following'\n",
    "resp = requests.get(url, auth=('ashok49473', ''))\n",
    "files = resp.json()\n",
    "for i, user in enumerate(files):\n",
    "    username = user['login']\n",
    "    if user['type'] == \"User\":\n",
    "        url = \"https://api.github.com/users/{}/repos\".format(username)\n",
    "        resp = requests.get(url, auth=('ashok49473', ''))\n",
    "        json_file = resp.json()\n",
    "        content = \"\"\n",
    "        for item in json_file:\n",
    "            if not item['fork']:\n",
    "                content+= \" \" + str(item['name']) + \" \"\n",
    "                content+= str(item['description']) + \" \"\n",
    "                langs = requests.get(item['languages_url'], auth=('ashok49473', ''))\n",
    "                content+= \" \".join(langs.json().keys())\n",
    "        temp[\"username\"].append(username)\n",
    "        temp[\"content\"].append(content)\n",
    "\n",
    "        print(i+1, end=\" \")\n",
    "    \n",
    "print(\"Following users Done!!\")\n",
    "\n",
    "print(\"Success!\")"
   ]
  },
  {
   "cell_type": "code",
   "execution_count": 6,
   "id": "e739188c",
   "metadata": {},
   "outputs": [
    {
     "name": "stdout",
     "output_type": "stream",
     "text": [
      "(54, 2)\n"
     ]
    },
    {
     "data": {
      "text/html": [
       "<div>\n",
       "<style scoped>\n",
       "    .dataframe tbody tr th:only-of-type {\n",
       "        vertical-align: middle;\n",
       "    }\n",
       "\n",
       "    .dataframe tbody tr th {\n",
       "        vertical-align: top;\n",
       "    }\n",
       "\n",
       "    .dataframe thead th {\n",
       "        text-align: right;\n",
       "    }\n",
       "</style>\n",
       "<table border=\"1\" class=\"dataframe\">\n",
       "  <thead>\n",
       "    <tr style=\"text-align: right;\">\n",
       "      <th></th>\n",
       "      <th>username</th>\n",
       "      <th>content</th>\n",
       "    </tr>\n",
       "  </thead>\n",
       "  <tbody>\n",
       "    <tr>\n",
       "      <th>0</th>\n",
       "      <td>umaradamibrahim</td>\n",
       "      <td>background-generator None CSS HTML JavaScript...</td>\n",
       "    </tr>\n",
       "    <tr>\n",
       "      <th>1</th>\n",
       "      <td>Kuber07</td>\n",
       "      <td>Inventory-Management-System This repository h...</td>\n",
       "    </tr>\n",
       "    <tr>\n",
       "      <th>2</th>\n",
       "      <td>MDVasu</td>\n",
       "      <td>AP050_Regional_Finals None Python Jupyter Not...</td>\n",
       "    </tr>\n",
       "    <tr>\n",
       "      <th>3</th>\n",
       "      <td>Sajinaaron07</td>\n",
       "      <td>git None HTML Python Procfile kac-portfolio K...</td>\n",
       "    </tr>\n",
       "    <tr>\n",
       "      <th>4</th>\n",
       "      <td>AyaMohammedAli</td>\n",
       "      <td>anyAndAll None Jupyter Notebook arithmaticexa...</td>\n",
       "    </tr>\n",
       "  </tbody>\n",
       "</table>\n",
       "</div>"
      ],
      "text/plain": [
       "          username                                            content\n",
       "0  umaradamibrahim   background-generator None CSS HTML JavaScript...\n",
       "1          Kuber07   Inventory-Management-System This repository h...\n",
       "2           MDVasu   AP050_Regional_Finals None Python Jupyter Not...\n",
       "3     Sajinaaron07   git None HTML Python Procfile kac-portfolio K...\n",
       "4   AyaMohammedAli   anyAndAll None Jupyter Notebook arithmaticexa..."
      ]
     },
     "metadata": {},
     "output_type": "display_data"
    }
   ],
   "source": [
    "df = pd.DataFrame(temp)\n",
    "print(df.shape)\n",
    "display(df.head())\n",
    "# df.to_csv(\"github_users.csv\", index=False)\n",
    "\n",
    "# print(\"Saved!\")"
   ]
  },
  {
   "cell_type": "code",
   "execution_count": null,
   "id": "6c7ea159",
   "metadata": {},
   "outputs": [],
   "source": []
  },
  {
   "cell_type": "code",
   "execution_count": null,
   "id": "46d7420e",
   "metadata": {},
   "outputs": [],
   "source": []
  },
  {
   "cell_type": "code",
   "execution_count": null,
   "id": "0ff864fd",
   "metadata": {},
   "outputs": [],
   "source": []
  },
  {
   "cell_type": "code",
   "execution_count": null,
   "id": "0e363ab3",
   "metadata": {},
   "outputs": [],
   "source": []
  },
  {
   "cell_type": "code",
   "execution_count": null,
   "id": "670190d5",
   "metadata": {},
   "outputs": [],
   "source": []
  },
  {
   "cell_type": "code",
   "execution_count": null,
   "id": "4541b872",
   "metadata": {},
   "outputs": [],
   "source": []
  }
 ],
 "metadata": {
  "kernelspec": {
   "display_name": "Python 3 (ipykernel)",
   "language": "python",
   "name": "python3"
  },
  "language_info": {
   "codemirror_mode": {
    "name": "ipython",
    "version": 3
   },
   "file_extension": ".py",
   "mimetype": "text/x-python",
   "name": "python",
   "nbconvert_exporter": "python",
   "pygments_lexer": "ipython3",
   "version": "3.8.10"
  }
 },
 "nbformat": 4,
 "nbformat_minor": 5
}
