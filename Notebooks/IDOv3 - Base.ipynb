{
 "cells": [
  {
   "cell_type": "code",
   "execution_count": 1,
   "id": "6bf21e7e",
   "metadata": {},
   "outputs": [],
   "source": [
    "import pandas as pd\n",
    "import numpy as np\n",
    "import matplotlib.pyplot as plt\n",
    "from sklearn.feature_extraction.text import CountVectorizer, TfidfVectorizer\n",
    "from sklearn.neighbors import NearestNeighbors\n",
    "from sklearn.preprocessing import StandardScaler, MinMaxScaler\n",
    "\n",
    "import warnings\n",
    "warnings.filterwarnings('ignore')"
   ]
  },
  {
   "cell_type": "code",
   "execution_count": 2,
   "id": "2b92193b",
   "metadata": {},
   "outputs": [],
   "source": [
    "data = pd.read_csv('cleaned_users.csv')"
   ]
  },
  {
   "cell_type": "code",
   "execution_count": 3,
   "id": "e0c429fb",
   "metadata": {},
   "outputs": [
    {
     "data": {
      "text/html": [
       "<div>\n",
       "<style scoped>\n",
       "    .dataframe tbody tr th:only-of-type {\n",
       "        vertical-align: middle;\n",
       "    }\n",
       "\n",
       "    .dataframe tbody tr th {\n",
       "        vertical-align: top;\n",
       "    }\n",
       "\n",
       "    .dataframe thead th {\n",
       "        text-align: right;\n",
       "    }\n",
       "</style>\n",
       "<table border=\"1\" class=\"dataframe\">\n",
       "  <thead>\n",
       "    <tr style=\"text-align: right;\">\n",
       "      <th></th>\n",
       "      <th>username</th>\n",
       "      <th>content</th>\n",
       "      <th>most_common_skills</th>\n",
       "    </tr>\n",
       "  </thead>\n",
       "  <tbody>\n",
       "    <tr>\n",
       "      <th>0</th>\n",
       "      <td>esin</td>\n",
       "      <td>calathea shell dris docker remote image size d...</td>\n",
       "      <td>['shell', 'go', 'dockerfile', 'html', 'docker'...</td>\n",
       "    </tr>\n",
       "    <tr>\n",
       "      <th>1</th>\n",
       "      <td>jeffersonsimaogoncalves</td>\n",
       "      <td>animacao icone app javascript</td>\n",
       "      <td>['animacao', 'icone', 'app', 'javascript']</td>\n",
       "    </tr>\n",
       "    <tr>\n",
       "      <th>2</th>\n",
       "      <td>pedrualves</td>\n",
       "      <td>abc abc android angular translated rustic simp...</td>\n",
       "      <td>['javascript', 'html', 'css', 'project', 'angu...</td>\n",
       "    </tr>\n",
       "    <tr>\n",
       "      <th>3</th>\n",
       "      <td>kroitor</td>\n",
       "      <td>asciichart nice looking lightweight console as...</td>\n",
       "      <td>['c', 'python', 'javascript', 'html', 'docs', ...</td>\n",
       "    </tr>\n",
       "    <tr>\n",
       "      <th>4</th>\n",
       "      <td>vivekweb2013</td>\n",
       "      <td>audio recorder free simple audio recorder app ...</td>\n",
       "      <td>['android', 'java', 'javascript', 'go', 'audio...</td>\n",
       "    </tr>\n",
       "  </tbody>\n",
       "</table>\n",
       "</div>"
      ],
      "text/plain": [
       "                  username                                            content  \\\n",
       "0                     esin  calathea shell dris docker remote image size d...   \n",
       "1  jeffersonsimaogoncalves                      animacao icone app javascript   \n",
       "2               pedrualves  abc abc android angular translated rustic simp...   \n",
       "3                  kroitor  asciichart nice looking lightweight console as...   \n",
       "4             vivekweb2013  audio recorder free simple audio recorder app ...   \n",
       "\n",
       "                                  most_common_skills  \n",
       "0  ['shell', 'go', 'dockerfile', 'html', 'docker'...  \n",
       "1         ['animacao', 'icone', 'app', 'javascript']  \n",
       "2  ['javascript', 'html', 'css', 'project', 'angu...  \n",
       "3  ['c', 'python', 'javascript', 'html', 'docs', ...  \n",
       "4  ['android', 'java', 'javascript', 'go', 'audio...  "
      ]
     },
     "execution_count": 3,
     "metadata": {},
     "output_type": "execute_result"
    }
   ],
   "source": [
    "data.head()"
   ]
  },
  {
   "cell_type": "code",
   "execution_count": 4,
   "id": "8ab52f3d",
   "metadata": {},
   "outputs": [
    {
     "data": {
      "text/plain": [
       "(561, 3)"
      ]
     },
     "execution_count": 4,
     "metadata": {},
     "output_type": "execute_result"
    }
   ],
   "source": [
    "data.shape"
   ]
  },
  {
   "cell_type": "code",
   "execution_count": 5,
   "id": "7d5402c8",
   "metadata": {},
   "outputs": [],
   "source": [
    "corpus = data.content.tolist()\n",
    "\n",
    "vectorizer = TfidfVectorizer(ngram_range=(1, 2), max_features=5000)\n",
    "\n",
    "scaler = MinMaxScaler(feature_range=(0, 5))\n",
    "\n",
    "_ = vectorizer.fit(corpus)\n",
    "\n",
    "vectors = vectorizer.transform(corpus).toarray()\n",
    "\n",
    "scaled_features = scaler.fit_transform(vectors)\n"
   ]
  },
  {
   "cell_type": "code",
   "execution_count": 6,
   "id": "7ebdf438",
   "metadata": {},
   "outputs": [],
   "source": [
    "text = \"front end applications build frontend application using react typescript back end applications infrastructure build sdks backend solana contracts maintain chain infrastructure code review ensure code quality software reliability automated test implementations ui ux testing processes\"\n",
    "\n",
    "vec = vectorizer.transform([text])\n",
    "scaled_vec = scaler.transform(vec.toarray())\n",
    "\n",
    "knn = NearestNeighbors(n_neighbors=5, algorithm='brute', metric='euclidean')\n",
    "\n",
    "_ = knn.fit(vectors)\n",
    "dists, idx = knn.kneighbors(scaled_vec)"
   ]
  },
  {
   "cell_type": "code",
   "execution_count": 8,
   "id": "40de7c6a",
   "metadata": {},
   "outputs": [
    {
     "data": {
      "text/html": [
       "<div>\n",
       "<style scoped>\n",
       "    .dataframe tbody tr th:only-of-type {\n",
       "        vertical-align: middle;\n",
       "    }\n",
       "\n",
       "    .dataframe tbody tr th {\n",
       "        vertical-align: top;\n",
       "    }\n",
       "\n",
       "    .dataframe thead th {\n",
       "        text-align: right;\n",
       "    }\n",
       "</style>\n",
       "<table border=\"1\" class=\"dataframe\">\n",
       "  <thead>\n",
       "    <tr style=\"text-align: right;\">\n",
       "      <th></th>\n",
       "      <th>username</th>\n",
       "      <th>content</th>\n",
       "      <th>most_common_skills</th>\n",
       "    </tr>\n",
       "  </thead>\n",
       "  <tbody>\n",
       "    <tr>\n",
       "      <th>482</th>\n",
       "      <td>ortonomy</td>\n",
       "      <td>audioaccess framer module framer js enables mi...</td>\n",
       "      <td>['javascript', 'html', 'css', 'framer', 'game'...</td>\n",
       "    </tr>\n",
       "    <tr>\n",
       "      <th>527</th>\n",
       "      <td>nash90</td>\n",
       "      <td>backend backend ecommerce system using hapi jw...</td>\n",
       "      <td>['backend', 'using', 'html', 'python', 'app', ...</td>\n",
       "    </tr>\n",
       "    <tr>\n",
       "      <th>183</th>\n",
       "      <td>moksh-mahajan</td>\n",
       "      <td>academic helper kotlin java bloc examples repo...</td>\n",
       "      <td>['c', 'kotlin', 'html', 'flutter', 'app', 'dar...</td>\n",
       "    </tr>\n",
       "    <tr>\n",
       "      <th>203</th>\n",
       "      <td>EleoXDA</td>\n",
       "      <td>affirmations app simple app shows affirmative ...</td>\n",
       "      <td>['app', 'kotlin', 'html', 'ruby', 'javascript'...</td>\n",
       "    </tr>\n",
       "    <tr>\n",
       "      <th>164</th>\n",
       "      <td>ritvij14</td>\n",
       "      <td>bloggy backend back end bloggy personal blog w...</td>\n",
       "      <td>['html', 'kotlin', 'c', 'flutter', 'dart', 'sw...</td>\n",
       "    </tr>\n",
       "  </tbody>\n",
       "</table>\n",
       "</div>"
      ],
      "text/plain": [
       "          username                                            content  \\\n",
       "482       ortonomy  audioaccess framer module framer js enables mi...   \n",
       "527         nash90  backend backend ecommerce system using hapi jw...   \n",
       "183  moksh-mahajan  academic helper kotlin java bloc examples repo...   \n",
       "203        EleoXDA  affirmations app simple app shows affirmative ...   \n",
       "164       ritvij14  bloggy backend back end bloggy personal blog w...   \n",
       "\n",
       "                                    most_common_skills  \n",
       "482  ['javascript', 'html', 'css', 'framer', 'game'...  \n",
       "527  ['backend', 'using', 'html', 'python', 'app', ...  \n",
       "183  ['c', 'kotlin', 'html', 'flutter', 'app', 'dar...  \n",
       "203  ['app', 'kotlin', 'html', 'ruby', 'javascript'...  \n",
       "164  ['html', 'kotlin', 'c', 'flutter', 'dart', 'sw...  "
      ]
     },
     "execution_count": 8,
     "metadata": {},
     "output_type": "execute_result"
    }
   ],
   "source": [
    "data.iloc[idx[0]]"
   ]
  },
  {
   "cell_type": "code",
   "execution_count": 9,
   "id": "8cace039",
   "metadata": {},
   "outputs": [
    {
     "data": {
      "text/plain": [
       "\"['python', 'css', 'javascript', 'flask', 'api', 'html', 'aws', 'reports', 'cloudera', 'core']\""
      ]
     },
     "execution_count": 9,
     "metadata": {},
     "output_type": "execute_result"
    }
   ],
   "source": [
    "data.iloc[123].most_common_skills"
   ]
  },
  {
   "cell_type": "code",
   "execution_count": 14,
   "id": "8633fe04",
   "metadata": {},
   "outputs": [
    {
     "data": {
      "text/plain": [
       "'audioaccess framer module framer js enables microphone input recording framer prototypes coffeescript javascript html css fling design assets designs fling work fling server fling server node js postgraphql backend flingapp front end javascript plpgsql flingapp front javascript vue css html flingapp frontend flingapp react js front end managing organisation book freelancers javascript css html react javascript html css mafiaserver node js based server create manage game mafia including real time chat javascript mediacontainer framer layer extension framer provides ready made video player layer playback controls coffeescript ortonomy github io freelance front end dev hire product manager board game addict css javascript html random password part cocoa programming course swift sided core ruby html simon game browser based version classic 70s 80s hand held memory game css javascript html ruby simon ios swift 3 version simon ios swift surge boilerplate swiftlesson4 antoine swift lesson 4 swift tic tac toe javascript based tic tac toe game javascript css html translate dev tools quick dirty script translate wechat developer tools english language python'"
      ]
     },
     "execution_count": 14,
     "metadata": {},
     "output_type": "execute_result"
    }
   ],
   "source": [
    "data.iloc[idx[0]].content.iloc[0]"
   ]
  },
  {
   "cell_type": "code",
   "execution_count": 11,
   "id": "d331f342",
   "metadata": {},
   "outputs": [
    {
     "data": {
      "text/plain": [
       "'front end applications build frontend application using react typescript back end applications infrastructure build sdks backend solana contracts maintain chain infrastructure code review ensure code quality software reliability automated test implementations ui ux testing processes'"
      ]
     },
     "execution_count": 11,
     "metadata": {},
     "output_type": "execute_result"
    }
   ],
   "source": [
    "text"
   ]
  },
  {
   "cell_type": "code",
   "execution_count": 12,
   "id": "b2bc2f29",
   "metadata": {},
   "outputs": [
    {
     "data": {
      "text/plain": [
       "127.29751180716862"
      ]
     },
     "execution_count": 12,
     "metadata": {},
     "output_type": "execute_result"
    }
   ],
   "source": [
    "np.sum(scaled_vec[0])"
   ]
  },
  {
   "cell_type": "code",
   "execution_count": 13,
   "id": "1ae7d164",
   "metadata": {},
   "outputs": [
    {
     "data": {
      "text/plain": [
       "5000"
      ]
     },
     "execution_count": 13,
     "metadata": {},
     "output_type": "execute_result"
    }
   ],
   "source": [
    "len(vectorizer.vocabulary_)"
   ]
  },
  {
   "cell_type": "code",
   "execution_count": 17,
   "id": "fbace3a4",
   "metadata": {},
   "outputs": [],
   "source": [
    "import pickle\n",
    "\n",
    "with open(\"scaler.pkl\", \"wb\") as f:\n",
    "    pickle.dump(scaler, f)\n",
    "    \n",
    "with open(\"vectorizer.pkl\", \"wb\") as f:\n",
    "    pickle.dump(vectorizer, f)\n",
    "\n",
    "with open(\"model.pkl\", \"wb\") as f:\n",
    "    pickle.dump(knn, f)"
   ]
  },
  {
   "cell_type": "code",
   "execution_count": null,
   "id": "ab35e6e6",
   "metadata": {},
   "outputs": [],
   "source": []
  },
  {
   "cell_type": "code",
   "execution_count": null,
   "id": "830591ad",
   "metadata": {},
   "outputs": [],
   "source": []
  },
  {
   "cell_type": "code",
   "execution_count": null,
   "id": "c22781f5",
   "metadata": {},
   "outputs": [],
   "source": []
  },
  {
   "cell_type": "code",
   "execution_count": null,
   "id": "01d8541c",
   "metadata": {},
   "outputs": [],
   "source": []
  },
  {
   "cell_type": "code",
   "execution_count": null,
   "id": "7ad07308",
   "metadata": {},
   "outputs": [],
   "source": []
  },
  {
   "cell_type": "code",
   "execution_count": null,
   "id": "89e0874b",
   "metadata": {},
   "outputs": [],
   "source": []
  },
  {
   "cell_type": "code",
   "execution_count": null,
   "id": "e96469ca",
   "metadata": {},
   "outputs": [],
   "source": []
  }
 ],
 "metadata": {
  "kernelspec": {
   "display_name": "Python 3 (ipykernel)",
   "language": "python",
   "name": "python3"
  },
  "language_info": {
   "codemirror_mode": {
    "name": "ipython",
    "version": 3
   },
   "file_extension": ".py",
   "mimetype": "text/x-python",
   "name": "python",
   "nbconvert_exporter": "python",
   "pygments_lexer": "ipython3",
   "version": "3.8.10"
  }
 },
 "nbformat": 4,
 "nbformat_minor": 5
}
