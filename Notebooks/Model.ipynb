{
 "cells": [
  {
   "cell_type": "code",
   "execution_count": 33,
   "id": "f54847fb",
   "metadata": {},
   "outputs": [],
   "source": [
    "import pandas as pd\n",
    "from sklearn.cluster import KMeans\n",
    "from kneed import KneeLocator\n",
    "from sklearn.metrics import silhouette_score\n",
    "import matplotlib.pyplot as plt\n",
    "from sklearn.feature_extraction.text import CountVectorizer, TfidfVectorizer\n",
    "from sklearn.decomposition import PCA\n",
    "import warnings\n",
    "warnings.filterwarnings('ignore')\n",
    "from sklearn.neighbors import NearestNeighbors\n",
    "# Pipeline"
   ]
  },
  {
   "cell_type": "code",
   "execution_count": 15,
   "id": "c2a8dc66",
   "metadata": {},
   "outputs": [],
   "source": [
    "corpus = [\n",
    "     'This is the first document.',\n",
    "     'This document is the second document.',\n",
    "     'And this is the third one.',\n",
    "     'Is this the first document?',\n",
    "     'This is the first document.',\n",
    "     'This document is the second document.',\n",
    "     'And this is the third one.',\n",
    "     'Is this the first document?',\n",
    "     'This is the first document.',\n",
    "     'This document is the second document.',\n",
    "     'And this is the third one.',\n",
    "     'Is this the first document?']"
   ]
  },
  {
   "cell_type": "code",
   "execution_count": 37,
   "id": "51b97a04",
   "metadata": {},
   "outputs": [
    {
     "data": {
      "text/html": [
       "<div>\n",
       "<style scoped>\n",
       "    .dataframe tbody tr th:only-of-type {\n",
       "        vertical-align: middle;\n",
       "    }\n",
       "\n",
       "    .dataframe tbody tr th {\n",
       "        vertical-align: top;\n",
       "    }\n",
       "\n",
       "    .dataframe thead th {\n",
       "        text-align: right;\n",
       "    }\n",
       "</style>\n",
       "<table border=\"1\" class=\"dataframe\">\n",
       "  <thead>\n",
       "    <tr style=\"text-align: right;\">\n",
       "      <th></th>\n",
       "      <th>username</th>\n",
       "      <th>skills</th>\n",
       "    </tr>\n",
       "  </thead>\n",
       "  <tbody>\n",
       "    <tr>\n",
       "      <th>0</th>\n",
       "      <td>user0</td>\n",
       "      <td>This is the first document.</td>\n",
       "    </tr>\n",
       "    <tr>\n",
       "      <th>1</th>\n",
       "      <td>user1</td>\n",
       "      <td>This document is the second document.</td>\n",
       "    </tr>\n",
       "    <tr>\n",
       "      <th>2</th>\n",
       "      <td>user2</td>\n",
       "      <td>And this is the third one.</td>\n",
       "    </tr>\n",
       "    <tr>\n",
       "      <th>3</th>\n",
       "      <td>user3</td>\n",
       "      <td>Is this the first document?</td>\n",
       "    </tr>\n",
       "    <tr>\n",
       "      <th>4</th>\n",
       "      <td>user4</td>\n",
       "      <td>This is the first document.</td>\n",
       "    </tr>\n",
       "    <tr>\n",
       "      <th>5</th>\n",
       "      <td>user5</td>\n",
       "      <td>This document is the second document.</td>\n",
       "    </tr>\n",
       "    <tr>\n",
       "      <th>6</th>\n",
       "      <td>user6</td>\n",
       "      <td>And this is the third one.</td>\n",
       "    </tr>\n",
       "    <tr>\n",
       "      <th>7</th>\n",
       "      <td>user7</td>\n",
       "      <td>Is this the first document?</td>\n",
       "    </tr>\n",
       "    <tr>\n",
       "      <th>8</th>\n",
       "      <td>user8</td>\n",
       "      <td>This is the first document.</td>\n",
       "    </tr>\n",
       "    <tr>\n",
       "      <th>9</th>\n",
       "      <td>user9</td>\n",
       "      <td>This document is the second document.</td>\n",
       "    </tr>\n",
       "    <tr>\n",
       "      <th>10</th>\n",
       "      <td>user10</td>\n",
       "      <td>And this is the third one.</td>\n",
       "    </tr>\n",
       "    <tr>\n",
       "      <th>11</th>\n",
       "      <td>user11</td>\n",
       "      <td>Is this the first document?</td>\n",
       "    </tr>\n",
       "  </tbody>\n",
       "</table>\n",
       "</div>"
      ],
      "text/plain": [
       "   username                                 skills\n",
       "0     user0            This is the first document.\n",
       "1     user1  This document is the second document.\n",
       "2     user2             And this is the third one.\n",
       "3     user3            Is this the first document?\n",
       "4     user4            This is the first document.\n",
       "5     user5  This document is the second document.\n",
       "6     user6             And this is the third one.\n",
       "7     user7            Is this the first document?\n",
       "8     user8            This is the first document.\n",
       "9     user9  This document is the second document.\n",
       "10   user10             And this is the third one.\n",
       "11   user11            Is this the first document?"
      ]
     },
     "execution_count": 37,
     "metadata": {},
     "output_type": "execute_result"
    }
   ],
   "source": [
    "df = pd.DataFrame(corpus)\n",
    "df = df.reset_index()\n",
    "df.columns = ['username','skills']\n",
    "df.username = df.username.apply(lambda x: 'user'+str(x))\n",
    "df"
   ]
  },
  {
   "cell_type": "code",
   "execution_count": 38,
   "id": "5908da42",
   "metadata": {},
   "outputs": [],
   "source": [
    "corpus = df.skills.tolist()"
   ]
  },
  {
   "cell_type": "code",
   "execution_count": 39,
   "id": "485bbfe4",
   "metadata": {},
   "outputs": [
    {
     "data": {
      "text/plain": [
       "['This is the first document.',\n",
       " 'This document is the second document.',\n",
       " 'And this is the third one.',\n",
       " 'Is this the first document?',\n",
       " 'This is the first document.',\n",
       " 'This document is the second document.',\n",
       " 'And this is the third one.',\n",
       " 'Is this the first document?',\n",
       " 'This is the first document.',\n",
       " 'This document is the second document.',\n",
       " 'And this is the third one.',\n",
       " 'Is this the first document?']"
      ]
     },
     "execution_count": 39,
     "metadata": {},
     "output_type": "execute_result"
    }
   ],
   "source": [
    "corpus"
   ]
  },
  {
   "cell_type": "code",
   "execution_count": 16,
   "id": "8d3242c0",
   "metadata": {},
   "outputs": [],
   "source": [
    "from nltk.corpus import stopwords\n",
    "stop_words = stopwords.words('english')"
   ]
  },
  {
   "cell_type": "code",
   "execution_count": 17,
   "id": "dd847147",
   "metadata": {},
   "outputs": [],
   "source": [
    "vectorizer = CountVectorizer(stop_words=stop_words)"
   ]
  },
  {
   "cell_type": "code",
   "execution_count": 18,
   "id": "db5d93db",
   "metadata": {},
   "outputs": [],
   "source": [
    "_ = vectorizer.fit(corpus)"
   ]
  },
  {
   "cell_type": "code",
   "execution_count": 19,
   "id": "0ebe71d1",
   "metadata": {},
   "outputs": [
    {
     "data": {
      "text/plain": [
       "array([[1, 1, 0, 0, 0],\n",
       "       [2, 0, 0, 1, 0],\n",
       "       [0, 0, 1, 0, 1],\n",
       "       [1, 1, 0, 0, 0],\n",
       "       [1, 1, 0, 0, 0],\n",
       "       [2, 0, 0, 1, 0],\n",
       "       [0, 0, 1, 0, 1],\n",
       "       [1, 1, 0, 0, 0],\n",
       "       [1, 1, 0, 0, 0],\n",
       "       [2, 0, 0, 1, 0],\n",
       "       [0, 0, 1, 0, 1],\n",
       "       [1, 1, 0, 0, 0]])"
      ]
     },
     "execution_count": 19,
     "metadata": {},
     "output_type": "execute_result"
    }
   ],
   "source": [
    "vectors = vectorizer.transform(corpus).toarray()\n",
    "vectors"
   ]
  },
  {
   "cell_type": "code",
   "execution_count": 20,
   "id": "af80a596",
   "metadata": {},
   "outputs": [
    {
     "data": {
      "text/plain": [
       "array(['document', 'first', 'one', 'second', 'third'], dtype=object)"
      ]
     },
     "execution_count": 20,
     "metadata": {},
     "output_type": "execute_result"
    }
   ],
   "source": [
    "vectorizer.get_feature_names_out()"
   ]
  },
  {
   "cell_type": "code",
   "execution_count": 21,
   "id": "6185154f",
   "metadata": {},
   "outputs": [
    {
     "data": {
      "text/plain": [
       "array([[ 0.        ,  1.        , -0.57735027, -0.57735027, -0.57735027],\n",
       "       [ 1.41421356, -1.        , -0.57735027,  1.73205081, -0.57735027],\n",
       "       [-1.41421356, -1.        ,  1.73205081, -0.57735027,  1.73205081],\n",
       "       [ 0.        ,  1.        , -0.57735027, -0.57735027, -0.57735027],\n",
       "       [ 0.        ,  1.        , -0.57735027, -0.57735027, -0.57735027],\n",
       "       [ 1.41421356, -1.        , -0.57735027,  1.73205081, -0.57735027],\n",
       "       [-1.41421356, -1.        ,  1.73205081, -0.57735027,  1.73205081],\n",
       "       [ 0.        ,  1.        , -0.57735027, -0.57735027, -0.57735027],\n",
       "       [ 0.        ,  1.        , -0.57735027, -0.57735027, -0.57735027],\n",
       "       [ 1.41421356, -1.        , -0.57735027,  1.73205081, -0.57735027],\n",
       "       [-1.41421356, -1.        ,  1.73205081, -0.57735027,  1.73205081],\n",
       "       [ 0.        ,  1.        , -0.57735027, -0.57735027, -0.57735027]])"
      ]
     },
     "execution_count": 21,
     "metadata": {},
     "output_type": "execute_result"
    }
   ],
   "source": [
    "from sklearn.preprocessing import StandardScaler\n",
    "scaler = StandardScaler()\n",
    "scaled_features = scaler.fit_transform(vectors)\n",
    "scaled_features"
   ]
  },
  {
   "cell_type": "code",
   "execution_count": 24,
   "id": "07a4491f",
   "metadata": {},
   "outputs": [],
   "source": [
    "# Kmeans\n",
    "kmeans_kwargs = {\n",
    "    \"init\": \"random\",\n",
    "    \"n_init\": 10,\n",
    "    \"max_iter\": 300,\n",
    "    \"random_state\": 42,\n",
    "}\n",
    "\n",
    "# A list holds the SSE values for each k\n",
    "sse = []\n",
    "for k in range(1, 11):\n",
    "    kmeans = KMeans(n_clusters=k, **kmeans_kwargs)\n",
    "    kmeans.fit(scaled_features)\n",
    "    sse.append(kmeans.inertia_)"
   ]
  },
  {
   "cell_type": "code",
   "execution_count": 27,
   "id": "1f1b616e",
   "metadata": {},
   "outputs": [
    {
     "data": {
      "image/png": "[encoded data removed]",
      "text/plain": [
       "<Figure size 640x480 with 1 Axes>"
      ]
     },
     "metadata": {},
     "output_type": "display_data"
    }
   ],
   "source": [
    "plt.style.use(\"fivethirtyeight\")\n",
    "plt.plot(range(1, 11), sse)\n",
    "plt.xticks(range(1, 11))\n",
    "plt.xlabel(\"Number of Clusters\")\n",
    "plt.ylabel(\"SSE\")\n",
    "plt.show()"
   ]
  },
  {
   "cell_type": "code",
   "execution_count": 28,
   "id": "2b3d6192",
   "metadata": {},
   "outputs": [
    {
     "data": {
      "text/plain": [
       "3"
      ]
     },
     "execution_count": 28,
     "metadata": {},
     "output_type": "execute_result"
    }
   ],
   "source": [
    "kl = KneeLocator(range(1, 11), sse, curve=\"convex\", direction=\"decreasing\")\n",
    "\n",
    "kl.elbow\n"
   ]
  },
  {
   "cell_type": "code",
   "execution_count": 29,
   "id": "00b40924",
   "metadata": {},
   "outputs": [],
   "source": [
    "# A list holds the silhouette coefficients for each k\n",
    "silhouette_coefficients = []\n",
    "\n",
    "# Notice you start at 2 clusters for silhouette coefficient\n",
    "for k in range(2, 11):\n",
    "    kmeans = KMeans(n_clusters=k, **kmeans_kwargs)\n",
    "    kmeans.fit(scaled_features)\n",
    "    score = silhouette_score(scaled_features, kmeans.labels_)\n",
    "    silhouette_coefficients.append(score)"
   ]
  },
  {
   "cell_type": "code",
   "execution_count": 30,
   "id": "600a713b",
   "metadata": {},
   "outputs": [
    {
     "data": {
      "image/png": "[encoded data removed]",
      "text/plain": [
       "<Figure size 640x480 with 1 Axes>"
      ]
     },
     "metadata": {},
     "output_type": "display_data"
    }
   ],
   "source": [
    "plt.style.use(\"fivethirtyeight\")\n",
    "plt.plot(range(2, 11), silhouette_coefficients)\n",
    "plt.xticks(range(2, 11))\n",
    "plt.xlabel(\"Number of Clusters\")\n",
    "plt.ylabel(\"Silhouette Coefficient\")\n",
    "plt.show()"
   ]
  },
  {
   "cell_type": "code",
   "execution_count": null,
   "id": "8d72f46a",
   "metadata": {},
   "outputs": [],
   "source": [
    "Pipeline(steps=[('preprocessor',\n",
    "                 Pipeline(steps=[('scaler', StandardScaler()),\n",
    "                                 ('pca',\n",
    "                                  PCA(n_components=2, random_state=42))])),\n",
    "                ('clusterer',\n",
    "                 Pipeline(steps=[('kmeans',\n",
    "                                  KMeans(max_iter=500, n_clusters=5, n_init=50,\n",
    "                                         random_state=42))]))])"
   ]
  },
  {
   "cell_type": "code",
   "execution_count": 40,
   "id": "054505d9",
   "metadata": {},
   "outputs": [],
   "source": [
    "cluster_model = KMeans(n_clusters=3)\n",
    "_ = cluster_model.fit(scaled_features)"
   ]
  },
  {
   "cell_type": "code",
   "execution_count": 42,
   "id": "d5c34a88",
   "metadata": {},
   "outputs": [],
   "source": [
    "df['cluster'] = cluster_model.predict(scaled_features)"
   ]
  },
  {
   "cell_type": "code",
   "execution_count": 43,
   "id": "176312dd",
   "metadata": {},
   "outputs": [
    {
     "data": {
      "text/html": [
       "<div>\n",
       "<style scoped>\n",
       "    .dataframe tbody tr th:only-of-type {\n",
       "        vertical-align: middle;\n",
       "    }\n",
       "\n",
       "    .dataframe tbody tr th {\n",
       "        vertical-align: top;\n",
       "    }\n",
       "\n",
       "    .dataframe thead th {\n",
       "        text-align: right;\n",
       "    }\n",
       "</style>\n",
       "<table border=\"1\" class=\"dataframe\">\n",
       "  <thead>\n",
       "    <tr style=\"text-align: right;\">\n",
       "      <th></th>\n",
       "      <th>username</th>\n",
       "      <th>skills</th>\n",
       "      <th>cluster</th>\n",
       "    </tr>\n",
       "  </thead>\n",
       "  <tbody>\n",
       "    <tr>\n",
       "      <th>0</th>\n",
       "      <td>user0</td>\n",
       "      <td>This is the first document.</td>\n",
       "      <td>1</td>\n",
       "    </tr>\n",
       "    <tr>\n",
       "      <th>1</th>\n",
       "      <td>user1</td>\n",
       "      <td>This document is the second document.</td>\n",
       "      <td>0</td>\n",
       "    </tr>\n",
       "    <tr>\n",
       "      <th>2</th>\n",
       "      <td>user2</td>\n",
       "      <td>And this is the third one.</td>\n",
       "      <td>2</td>\n",
       "    </tr>\n",
       "    <tr>\n",
       "      <th>3</th>\n",
       "      <td>user3</td>\n",
       "      <td>Is this the first document?</td>\n",
       "      <td>1</td>\n",
       "    </tr>\n",
       "    <tr>\n",
       "      <th>4</th>\n",
       "      <td>user4</td>\n",
       "      <td>This is the first document.</td>\n",
       "      <td>1</td>\n",
       "    </tr>\n",
       "    <tr>\n",
       "      <th>5</th>\n",
       "      <td>user5</td>\n",
       "      <td>This document is the second document.</td>\n",
       "      <td>0</td>\n",
       "    </tr>\n",
       "    <tr>\n",
       "      <th>6</th>\n",
       "      <td>user6</td>\n",
       "      <td>And this is the third one.</td>\n",
       "      <td>2</td>\n",
       "    </tr>\n",
       "    <tr>\n",
       "      <th>7</th>\n",
       "      <td>user7</td>\n",
       "      <td>Is this the first document?</td>\n",
       "      <td>1</td>\n",
       "    </tr>\n",
       "    <tr>\n",
       "      <th>8</th>\n",
       "      <td>user8</td>\n",
       "      <td>This is the first document.</td>\n",
       "      <td>1</td>\n",
       "    </tr>\n",
       "    <tr>\n",
       "      <th>9</th>\n",
       "      <td>user9</td>\n",
       "      <td>This document is the second document.</td>\n",
       "      <td>0</td>\n",
       "    </tr>\n",
       "    <tr>\n",
       "      <th>10</th>\n",
       "      <td>user10</td>\n",
       "      <td>And this is the third one.</td>\n",
       "      <td>2</td>\n",
       "    </tr>\n",
       "    <tr>\n",
       "      <th>11</th>\n",
       "      <td>user11</td>\n",
       "      <td>Is this the first document?</td>\n",
       "      <td>1</td>\n",
       "    </tr>\n",
       "  </tbody>\n",
       "</table>\n",
       "</div>"
      ],
      "text/plain": [
       "   username                                 skills  cluster\n",
       "0     user0            This is the first document.        1\n",
       "1     user1  This document is the second document.        0\n",
       "2     user2             And this is the third one.        2\n",
       "3     user3            Is this the first document?        1\n",
       "4     user4            This is the first document.        1\n",
       "5     user5  This document is the second document.        0\n",
       "6     user6             And this is the third one.        2\n",
       "7     user7            Is this the first document?        1\n",
       "8     user8            This is the first document.        1\n",
       "9     user9  This document is the second document.        0\n",
       "10   user10             And this is the third one.        2\n",
       "11   user11            Is this the first document?        1"
      ]
     },
     "execution_count": 43,
     "metadata": {},
     "output_type": "execute_result"
    }
   ],
   "source": [
    "df"
   ]
  },
  {
   "cell_type": "code",
   "execution_count": 45,
   "id": "7f1d9a9c",
   "metadata": {},
   "outputs": [
    {
     "data": {
      "text/plain": [
       "array([ 1.41421356, -1.        , -0.57735027,  1.73205081, -0.57735027])"
      ]
     },
     "execution_count": 45,
     "metadata": {},
     "output_type": "execute_result"
    }
   ],
   "source": [
    "user1 = scaled_features[1]\n",
    "user1"
   ]
  },
  {
   "cell_type": "code",
   "execution_count": 50,
   "id": "79b1b7f8",
   "metadata": {},
   "outputs": [
    {
     "data": {
      "text/plain": [
       "0"
      ]
     },
     "execution_count": 50,
     "metadata": {},
     "output_type": "execute_result"
    }
   ],
   "source": [
    "cluster = cluster_model.predict([user1])[0]\n",
    "cluster"
   ]
  },
  {
   "cell_type": "code",
   "execution_count": 51,
   "id": "70310b35",
   "metadata": {},
   "outputs": [
    {
     "data": {
      "text/html": [
       "<div>\n",
       "<style scoped>\n",
       "    .dataframe tbody tr th:only-of-type {\n",
       "        vertical-align: middle;\n",
       "    }\n",
       "\n",
       "    .dataframe tbody tr th {\n",
       "        vertical-align: top;\n",
       "    }\n",
       "\n",
       "    .dataframe thead th {\n",
       "        text-align: right;\n",
       "    }\n",
       "</style>\n",
       "<table border=\"1\" class=\"dataframe\">\n",
       "  <thead>\n",
       "    <tr style=\"text-align: right;\">\n",
       "      <th></th>\n",
       "      <th>username</th>\n",
       "      <th>skills</th>\n",
       "      <th>cluster</th>\n",
       "    </tr>\n",
       "  </thead>\n",
       "  <tbody>\n",
       "    <tr>\n",
       "      <th>1</th>\n",
       "      <td>user1</td>\n",
       "      <td>This document is the second document.</td>\n",
       "      <td>0</td>\n",
       "    </tr>\n",
       "    <tr>\n",
       "      <th>5</th>\n",
       "      <td>user5</td>\n",
       "      <td>This document is the second document.</td>\n",
       "      <td>0</td>\n",
       "    </tr>\n",
       "    <tr>\n",
       "      <th>9</th>\n",
       "      <td>user9</td>\n",
       "      <td>This document is the second document.</td>\n",
       "      <td>0</td>\n",
       "    </tr>\n",
       "  </tbody>\n",
       "</table>\n",
       "</div>"
      ],
      "text/plain": [
       "  username                                 skills  cluster\n",
       "1    user1  This document is the second document.        0\n",
       "5    user5  This document is the second document.        0\n",
       "9    user9  This document is the second document.        0"
      ]
     },
     "execution_count": 51,
     "metadata": {},
     "output_type": "execute_result"
    }
   ],
   "source": [
    "cluster_df = df.loc[df.cluster == cluster]\n",
    "cluster_df"
   ]
  },
  {
   "cell_type": "code",
   "execution_count": 53,
   "id": "7bd6e77d",
   "metadata": {},
   "outputs": [
    {
     "data": {
      "text/plain": [
       "[1, 5, 9]"
      ]
     },
     "execution_count": 53,
     "metadata": {},
     "output_type": "execute_result"
    }
   ],
   "source": [
    "indices = cluster_df.index.tolist()\n",
    "indices"
   ]
  },
  {
   "cell_type": "code",
   "execution_count": 54,
   "id": "c8044631",
   "metadata": {},
   "outputs": [
    {
     "data": {
      "text/plain": [
       "array([[ 1.41421356, -1.        , -0.57735027,  1.73205081, -0.57735027],\n",
       "       [ 1.41421356, -1.        , -0.57735027,  1.73205081, -0.57735027],\n",
       "       [ 1.41421356, -1.        , -0.57735027,  1.73205081, -0.57735027]])"
      ]
     },
     "execution_count": 54,
     "metadata": {},
     "output_type": "execute_result"
    }
   ],
   "source": [
    "scaled_features[indices]"
   ]
  },
  {
   "cell_type": "code",
   "execution_count": 59,
   "id": "814e8026",
   "metadata": {},
   "outputs": [],
   "source": [
    "knn = NearestNeighbors(n_neighbors=1)\n",
    "knn.fit(scaled_features[indices])\n",
    "dists, idx = knn.kneighbors([user1])"
   ]
  },
  {
   "cell_type": "code",
   "execution_count": 60,
   "id": "1ab8851f",
   "metadata": {},
   "outputs": [
    {
     "data": {
      "text/plain": [
       "array([[0]])"
      ]
     },
     "execution_count": 60,
     "metadata": {},
     "output_type": "execute_result"
    }
   ],
   "source": [
    "idx[0]"
   ]
  },
  {
   "cell_type": "code",
   "execution_count": null,
   "id": "5639ccdb",
   "metadata": {},
   "outputs": [],
   "source": []
  }
 ],
 "metadata": {
  "kernelspec": {
   "display_name": "Python 3 (ipykernel)",
   "language": "python",
   "name": "python3"
  },
  "language_info": {
   "codemirror_mode": {
    "name": "ipython",
    "version": 3
   },
   "file_extension": ".py",
   "mimetype": "text/x-python",
   "name": "python",
   "nbconvert_exporter": "python",
   "pygments_lexer": "ipython3",
   "version": "3.8.10"
  }
 },
 "nbformat": 4,
 "nbformat_minor": 5
}
